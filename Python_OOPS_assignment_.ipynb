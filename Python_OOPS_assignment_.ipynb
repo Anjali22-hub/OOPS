{
  "nbformat": 4,
  "nbformat_minor": 0,
  "metadata": {
    "colab": {
      "provenance": []
    },
    "kernelspec": {
      "name": "python3",
      "display_name": "Python 3"
    },
    "language_info": {
      "name": "python"
    }
  },
  "cells": [
    {
      "cell_type": "markdown",
      "source": [
        "***ASSIGNMENT***\n",
        "--\n",
        "\n",
        "\n",
        "---\n",
        "\n"
      ],
      "metadata": {
        "id": "m8I5uCCrXCLI"
      }
    },
    {
      "cell_type": "markdown",
      "source": [
        "1. What is Object-Oriented Programming (OOP)?\n",
        "- Object-Oriented Programming (OOP) is a programming paradigm that organizes software design around objects, which are instances of classes.\n",
        "- It is a blueprint for creating objects.\n",
        "- It defines attributes (variables) and methods (functions).\n",
        "- It is an instance of a class.\n",
        "- It has its own data and can use methods defined in the class."
      ],
      "metadata": {
        "id": "cV7QrVh_XLwE"
      }
    },
    {
      "cell_type": "markdown",
      "source": [
        "2. What is a class in OOP?\n",
        "- A class is a blueprint or template for creating objects in OOP.\n",
        "- It defines the attributes and methods that the created objects (instances) will have.\n",
        "- It defines the structure and behaviour of objects.\n",
        "- It is used to create multiple objects with the same structure.\n",
        "- It encapsulates data and functionality into one unit."
      ],
      "metadata": {
        "id": "tSNkkdnpXn7B"
      }
    },
    {
      "cell_type": "markdown",
      "source": [
        "3. What is an object in OOP?\n",
        "- An object is a real instance of a class.\n",
        "- It represents a specific item created using the blueprint (class).\n",
        "- The object holds data in the form of attributes and has behaviour through methods.\n",
        "- It has its own identity, attributes, and methods and can access class-defined methods and attributes."
      ],
      "metadata": {
        "id": "onZGJ35LXxxS"
      }
    },
    {
      "cell_type": "markdown",
      "source": [
        "4. What is the difference between abstraction and encapsulation?\n",
        "- Abstraction : This means showing only the essential features\n",
        "of an object while hiding internal implementation details.\n",
        "  - Purpose is to focus on what an object does rather than how it does it."
      ],
      "metadata": {
        "id": "BtBG6qVTX2kd"
      }
    },
    {
      "cell_type": "code",
      "source": [
        "#Example :-\n",
        "class Car:\n",
        "    def start(self):\n",
        "        print(\"Car has started.\")\n",
        "    def stop(self):\n",
        "        print(\"Car has stopped.\")\n",
        "\n",
        "my_car = Car()\n",
        "my_car.start()\n",
        "my_car.stop()"
      ],
      "metadata": {
        "colab": {
          "base_uri": "https://localhost:8080/"
        },
        "id": "nV4whCErg37-",
        "outputId": "0ff5cf41-a799-4aca-a86f-aacb6a2824a4"
      },
      "execution_count": 1,
      "outputs": [
        {
          "output_type": "stream",
          "name": "stdout",
          "text": [
            "Car has started.\n",
            "Car has stopped.\n"
          ]
        }
      ]
    },
    {
      "cell_type": "markdown",
      "source": [
        "- Encapsulation : It means wrapping data and code into a single unit (class), and restricting direct access to some of the object's components.\n",
        "  - Purpose is to protect data and ensure that only authorised methods can access or change it."
      ],
      "metadata": {
        "id": "gHI-AoHWhYEY"
      }
    },
    {
      "cell_type": "code",
      "source": [
        "#Example :-\n",
        "class BankAccount:\n",
        "    def __init__(self, balance):\n",
        "        self.__balance = 0\n",
        "    def deposit(self, amount):\n",
        "       if amount > 0:\n",
        "          self.__balance += amount\n",
        "    def withdraw(self, amount):\n",
        "       if amount > 0 and amount <= self.__balance:\n",
        "          self.__balance -= amount\n",
        "    def get_balance(self):\n",
        "       return self.__balance\n",
        "\n",
        "my_account = BankAccount(3000)\n",
        "my_account.deposit(800)\n",
        "my_account.withdraw(300)\n",
        "print(my_account.get_balance())"
      ],
      "metadata": {
        "colab": {
          "base_uri": "https://localhost:8080/"
        },
        "id": "KDVOG-y7h7aE",
        "outputId": "b46da680-3635-44ae-efaa-40d12669b66e"
      },
      "execution_count": 3,
      "outputs": [
        {
          "output_type": "stream",
          "name": "stdout",
          "text": [
            "500\n"
          ]
        }
      ]
    },
    {
      "cell_type": "markdown",
      "source": [
        "5. What are dunder methods in Python?\n",
        "- Dunder methods (meaning \"double underscore\" methods) are special methods in Python that start and end with double underscores (`__like_this__`).\n",
        "- They are also called as magic methods.\n",
        "- These methods allow for customizing how your objects behave, especially with built-in operations like printing, addition, comparison, etc.\n",
        "- They define behaviour for operators (`+`, `<`, `==`, etc.)\n",
        "- They make objects behave like lists, numbers, etc.\n",
        "- Common dunder methods are :- `__init__` , `__str__` , `__repr__` , `__len__` , `__add__` , etc."
      ],
      "metadata": {
        "id": "QJWN4fWzX7NC"
      }
    },
    {
      "cell_type": "markdown",
      "source": [
        "6. Explain the concept of inheritance in OOP.\n",
        "- Inheritance is a key feature of OOP that allows a new class (child or subclass) to reuse, extend, or change the behavior of an existing class (parent or base class).\n",
        "- Purpose : It promotes code reusability, supports hierarchical classification, makes the code easier to maintain and extend.\n",
        "- Example of real world : A child inherits features from their parents but can also have unique traits."
      ],
      "metadata": {
        "id": "j4OqFbR4YAL9"
      }
    },
    {
      "cell_type": "code",
      "source": [
        "#parent class\n",
        "class Animal:\n",
        "  def speak(self):\n",
        "    return \"Animal speaks\"\n",
        "\n",
        "#child class inherits from animal\n",
        "class Dog(Animal):\n",
        "    def speak(self):\n",
        "        return \"Dog barks\"\n",
        "\n",
        "d = Dog()\n",
        "print(d.speak())"
      ],
      "metadata": {
        "colab": {
          "base_uri": "https://localhost:8080/"
        },
        "id": "dIKGvu8qp1Yd",
        "outputId": "a8f82ba3-b449-4136-d643-bab1944568b0"
      },
      "execution_count": 7,
      "outputs": [
        {
          "output_type": "stream",
          "name": "stdout",
          "text": [
            "Dog barks\n"
          ]
        }
      ]
    },
    {
      "cell_type": "markdown",
      "source": [
        "7. What is polymorphism in OOP?\n",
        "- Polymorphism means \"many forms\".\n",
        "- In OOP, it allows the same function or method name to behave differently based on the object calling it.\n",
        "- It makes code more flexible and easier to extend.\n",
        "- Allows to write generic code that works with different object types.\n",
        "- Encourages interface-based programming.\n",
        "- Types of polymorphism :     \n",
        "  - Compile-time (overloading) :- Same method with different arguments.\n",
        "  - Run-time (overriding) :- Same method name in child class with different behavior."
      ],
      "metadata": {
        "id": "H3QYfrFKYKeB"
      }
    },
    {
      "cell_type": "markdown",
      "source": [
        "8. How is encapsulation achieved in Python?\n",
        "- Encapsulation in Python is achieved using :     \n",
        "  - Public Level -> Prefix : `name`\n",
        "  - Protected Level -> Prefix : `_name`\n",
        "  - Private Level -> Prefix : `__name`"
      ],
      "metadata": {
        "id": "D4DlzE06YPcw"
      }
    },
    {
      "cell_type": "code",
      "source": [
        "#example :-\n",
        "class BankAccount:\n",
        "    def __init__(self, balance):\n",
        "        self.__balance = balance\n",
        "\n",
        "    def deposit(self, amount):\n",
        "        if amount > 0:\n",
        "            self.__balance += amount\n",
        "\n",
        "    def withdraw(self, amount):\n",
        "        if amount > 0 and amount <= self.__balance:\n",
        "            self.__balance -= amount\n",
        "\n",
        "    def get_balance(self):\n",
        "        return self.__balance\n",
        "\n",
        "my_account = BankAccount(5500)\n",
        "my_account.deposit(900)\n",
        "my_account.withdraw(700)\n",
        "print(my_account.get_balance())"
      ],
      "metadata": {
        "colab": {
          "base_uri": "https://localhost:8080/"
        },
        "id": "y_axCeR2svHV",
        "outputId": "7c65a4b5-05f0-46ea-aad8-f63c1e4da1ed"
      },
      "execution_count": 8,
      "outputs": [
        {
          "output_type": "stream",
          "name": "stdout",
          "text": [
            "5700\n"
          ]
        }
      ]
    },
    {
      "cell_type": "markdown",
      "source": [
        "9. What is a constructor in Python?\n",
        "- In Python, a constructor is a special method used to initialize a new object when it is created from a class.\n",
        "- It is always named `__init__()`.\n",
        "- It automatically runs when an object is created.\n",
        "- It sets up the object with initial values or default state."
      ],
      "metadata": {
        "id": "XfTkgDtVYT0A"
      }
    },
    {
      "cell_type": "code",
      "source": [
        "#example :-\n",
        "class Person:\n",
        "    def __init__(self, name, age):\n",
        "        self.name = name\n",
        "        self.age = age\n",
        "\n",
        "    def introduce(self):\n",
        "      return f\"Hello, my name is Anjali and I am 23 years old.\"\n",
        "\n",
        "p = Person(\"Anjali\", 23)\n",
        "print(p.introduce())"
      ],
      "metadata": {
        "colab": {
          "base_uri": "https://localhost:8080/"
        },
        "id": "fifXvLB1t3Dg",
        "outputId": "ca82c7e4-9266-462c-93a4-f1ca959d58d8"
      },
      "execution_count": 9,
      "outputs": [
        {
          "output_type": "stream",
          "name": "stdout",
          "text": [
            "Hello, my name is Anjali and I am 23 years old.\n"
          ]
        }
      ]
    },
    {
      "cell_type": "markdown",
      "source": [
        "10. What are class and static methods in Python?\n",
        "- Class method (@classmethod) :-   \n",
        "  - A class method receives the class itself as the first argument instead of the object.\n",
        "  - It is used when working with class-level data."
      ],
      "metadata": {
        "id": "VaVR5KRVYYdF"
      }
    },
    {
      "cell_type": "code",
      "source": [
        "#example :-\n",
        "class Student:\n",
        "  school_name = \"ABC School\"\n",
        "\n",
        "  @classmethod\n",
        "  def get_school(cls):\n",
        "    return cls.school_name\n",
        "\n",
        "s = Student()\n",
        "print(s.get_school())"
      ],
      "metadata": {
        "colab": {
          "base_uri": "https://localhost:8080/"
        },
        "id": "nt-J1ck_vEf7",
        "outputId": "1f921ab9-3d3c-4c6b-83fc-9ec456777abe"
      },
      "execution_count": 13,
      "outputs": [
        {
          "output_type": "stream",
          "name": "stdout",
          "text": [
            "ABC School\n"
          ]
        }
      ]
    },
    {
      "cell_type": "markdown",
      "source": [
        "- Static method (@staticmethod) :-   \n",
        "  - A static method is independent of both the class and object.\n",
        "  - It does not take `self` or `cls` as a parameter.\n",
        "  - It is used for utility functions related to the class."
      ],
      "metadata": {
        "id": "l_dXWt0PvhAZ"
      }
    },
    {
      "cell_type": "code",
      "source": [
        "#example :-\n",
        "class Maths:\n",
        "  @staticmethod\n",
        "  def add(a, b):\n",
        "    return a + b\n",
        "\n",
        "print(Maths.add(24, 20))"
      ],
      "metadata": {
        "colab": {
          "base_uri": "https://localhost:8080/"
        },
        "id": "-UlPHlCuv6L6",
        "outputId": "39feb00e-993e-4b02-ed41-c8f683381566"
      },
      "execution_count": 12,
      "outputs": [
        {
          "output_type": "stream",
          "name": "stdout",
          "text": [
            "44\n"
          ]
        }
      ]
    },
    {
      "cell_type": "markdown",
      "source": [
        "11. What is method overloading in Python?\n",
        "- It refers to defining multiple methods with the same name but different parameters.\n",
        "- It allows you to call the same method in different ways depending on the number or type of arguments.\n",
        "- Note : Python does not support method overloading natively.\n",
        "It supports simple overloading."
      ],
      "metadata": {
        "id": "wYzPuko7Ydkq"
      }
    },
    {
      "cell_type": "code",
      "source": [
        "#example using default arguments :-\n",
        "class Greet:\n",
        "  def hello(self, name=None):\n",
        "    if name is not None:\n",
        "      return f\"Hello, {name}!\"\n",
        "    else:\n",
        "      return \"Hello!\"\n",
        "\n",
        "g = Greet()\n",
        "print(g.hello())\n",
        "print(g.hello(\"Anjali\"))"
      ],
      "metadata": {
        "colab": {
          "base_uri": "https://localhost:8080/"
        },
        "id": "-aMKARPsx3Ab",
        "outputId": "aa8edc0d-4f44-4bd0-f35b-4554017ecb34"
      },
      "execution_count": 15,
      "outputs": [
        {
          "output_type": "stream",
          "name": "stdout",
          "text": [
            "Hello!\n",
            "Hello, Anjali!\n"
          ]
        }
      ]
    },
    {
      "cell_type": "markdown",
      "source": [
        "12. What is method overriding in OOP?\n",
        "- Method overriding occurs when a child class provides its own implementation of a method that is already defined in its parent class.\n",
        "- Purpose is to change the behavior of inherited method for the child class.\n",
        "- It is an example of runtime polymorphism."
      ],
      "metadata": {
        "id": "5ksC1A9LYi-f"
      }
    },
    {
      "cell_type": "code",
      "source": [
        "#example :-\n",
        "class Animal:\n",
        "    def speak(self):\n",
        "        return \"Animal makes a sound\"\n",
        "\n",
        "class Cat(Animal):\n",
        "    def speak(self):\n",
        "        return \"Cat meows\"\n",
        "\n",
        "a = Animal()\n",
        "print(a.speak())\n",
        "d = Cat()\n",
        "print(d.speak())"
      ],
      "metadata": {
        "colab": {
          "base_uri": "https://localhost:8080/"
        },
        "id": "PxKOQsMFzCQ0",
        "outputId": "82460139-3484-4380-c41b-927c6d602e37"
      },
      "execution_count": 16,
      "outputs": [
        {
          "output_type": "stream",
          "name": "stdout",
          "text": [
            "Animal makes a sound\n",
            "Cat meows\n"
          ]
        }
      ]
    },
    {
      "cell_type": "markdown",
      "source": [
        "13.  What is a property decorator in Python?\n",
        "- The `@property` decorator in Python is used to turn a method into a \"read-only\" attribute.\n",
        "- It allows you to define getters, and optionally setters and deleters, without changing how you access the attribute.\n",
        "- Used to add validation logic when getting or setting values.\n",
        "- It has control over how attributes are accessed or modified."
      ],
      "metadata": {
        "id": "P8xBZC4oYpJy"
      }
    },
    {
      "cell_type": "code",
      "source": [
        "#example :-\n",
        "class Circle:\n",
        "    def __init__(self, radius):\n",
        "        self._radius = radius\n",
        "\n",
        "    @property\n",
        "    def radius(self):\n",
        "        return self._radius\n",
        "\n",
        "c = Circle(10)\n",
        "print(c.radius)"
      ],
      "metadata": {
        "colab": {
          "base_uri": "https://localhost:8080/"
        },
        "id": "zcdRQ0Nb0TCk",
        "outputId": "3d2b2dbc-b966-4b58-df2b-9efcd540fa9c"
      },
      "execution_count": 17,
      "outputs": [
        {
          "output_type": "stream",
          "name": "stdout",
          "text": [
            "10\n"
          ]
        }
      ]
    },
    {
      "cell_type": "markdown",
      "source": [
        "14. Why is polymorphism important in OOP?\n",
        "- Importance of polymorphism in OOP :-   \n",
        "  - Simplified code : It reduces `if/else` or `switch` logic by calling the same method across types.\n",
        "  - Code reusability : It writes common code that works with objects of different types.\n",
        "  - Flexible and Extensible : It adds new classes without changing existing code.\n",
        "  - Improved Maintainability : It changes to behavior that are localized to the specific subclass."
      ],
      "metadata": {
        "id": "3bNzbftBYuSl"
      }
    },
    {
      "cell_type": "markdown",
      "source": [
        "15. What is an abstract class in Python?\n",
        "- An abstract class in Python is a class that is meant to be inherited by other classes.\n",
        "- It can define abstract methods that must be overriden in child classes.\n",
        "- Purpose is to define a common blueprint for a group of related classes and to enforce that certain methods are implemented in all subclasses."
      ],
      "metadata": {
        "id": "kSQQZKfKY00I"
      }
    },
    {
      "cell_type": "code",
      "source": [
        "#example :-\n",
        "from abc import ABC, abstractmethod\n",
        "\n",
        "class Animal(ABC):\n",
        "    @abstractmethod\n",
        "    def speak(self):\n",
        "        pass\n",
        "\n",
        "class Dog(Animal):\n",
        "    def speak(self):\n",
        "        return \"Woof!\"\n",
        "\n",
        "\n",
        "class Cat(Animal):\n",
        "    def speak(self):\n",
        "        return \"Meow!\"\n",
        "\n",
        "d = Dog()\n",
        "print(d.speak())\n",
        "c = Cat()\n",
        "print(c.speak())"
      ],
      "metadata": {
        "colab": {
          "base_uri": "https://localhost:8080/"
        },
        "id": "Hyz_ZvSL2S8E",
        "outputId": "d4ce3737-ce58-4566-82d9-4f86c1f9f129"
      },
      "execution_count": 18,
      "outputs": [
        {
          "output_type": "stream",
          "name": "stdout",
          "text": [
            "Woof!\n",
            "Meow!\n"
          ]
        }
      ]
    },
    {
      "cell_type": "markdown",
      "source": [
        "16. What are the advantages of OOP?\n",
        "- Advantages of OOP are :-   \n",
        "  - Reusability -> Classes can be reused across different programs or modules.\n",
        "  - Modularity -> Code is organized into classes and objects. Each class is self-contained with its own data and behavior.\n",
        "  - Encapsulation -> Data and methods are bundled into a class. Internal implementation is hidden and protected. Access is controlled through getters or setters or properties.\n",
        "  - Better testing and debugging -> Each object can be tested independently. Unit testing is more manageable with encapsulated logic.\n",
        "  - Security through access control -> It helps secure sensitive data inside classes."
      ],
      "metadata": {
        "id": "g8te2keRY5lq"
      }
    },
    {
      "cell_type": "markdown",
      "source": [
        "17. What is the difference between a class variable and an instance variable?\n",
        "- Class Variable :-   \n",
        "  - A class variable is a variable that is shared by all instances of the class.\n",
        "  - It is defined outside any method, inside the class.\n",
        "  - It is accessed using `ClassName.varible_name` or `self.varible_name`."
      ],
      "metadata": {
        "id": "XyN81lZMY-DS"
      }
    },
    {
      "cell_type": "code",
      "source": [
        "#example :-\n",
        "class Student:\n",
        "  school_name = \"ABC School\"\n",
        "\n",
        "  def __init__(self, name, age):\n",
        "    self.name = name\n",
        "    self.age = age\n",
        "\n",
        "s1 = Student(\"Anjali\", 23)\n",
        "print(s1.school_name)"
      ],
      "metadata": {
        "colab": {
          "base_uri": "https://localhost:8080/"
        },
        "id": "qrA2AX_34l9_",
        "outputId": "b3225e07-6176-4600-b2b8-de36c901d57d"
      },
      "execution_count": 20,
      "outputs": [
        {
          "output_type": "stream",
          "name": "stdout",
          "text": [
            "ABC School\n"
          ]
        }
      ]
    },
    {
      "cell_type": "markdown",
      "source": [
        "- Instance Variable :-   \n",
        "  - An instance variable is a variable thqt is unique to each object of the class.\n",
        "  - It is defined using `self.variable_name`.\n",
        "  - It is created inside methods like `__init__()`.\n",
        "  - Each object has its own copy."
      ],
      "metadata": {
        "id": "XPEeMoYO4u_T"
      }
    },
    {
      "cell_type": "code",
      "source": [
        "#example :-\n",
        "class Student:\n",
        "  def __init__(self, name, age):\n",
        "    self.name = name\n",
        "    self.age = age\n",
        "\n",
        "s1 = Student(\"Anjali\", 23)\n",
        "s2 = Student(\"Priya\", 22)\n",
        "print(s1.name, s1.age)\n",
        "print(s2.name, s2.age)"
      ],
      "metadata": {
        "colab": {
          "base_uri": "https://localhost:8080/"
        },
        "id": "3TbfdKtn5QET",
        "outputId": "e6c0885a-6e56-4e03-8cc8-af1261495ad5"
      },
      "execution_count": 22,
      "outputs": [
        {
          "output_type": "stream",
          "name": "stdout",
          "text": [
            "Anjali 23\n",
            "Priya 22\n"
          ]
        }
      ]
    },
    {
      "cell_type": "markdown",
      "source": [
        "18. What is multiple inheritance in Python?\n",
        "- It is a feature where a child class can inherit from more than one parent class.\n",
        "- It is used to combine functionalitites from multiple classes into one.\n",
        "- It is used to promote code reuse and modularity."
      ],
      "metadata": {
        "id": "WNCxyaRIZFs2"
      }
    },
    {
      "cell_type": "code",
      "source": [
        "#example :-\n",
        "class Father:\n",
        "    def speak(self):\n",
        "        return \"Father works\"\n",
        "\n",
        "class Mother:\n",
        "    def play(self):\n",
        "        return \"Mother paints\"\n",
        "\n",
        "class Child(Father, Mother):\n",
        "    pass\n",
        "\n",
        "c = Child()\n",
        "print(c.speak())\n",
        "print(c.play())"
      ],
      "metadata": {
        "colab": {
          "base_uri": "https://localhost:8080/"
        },
        "id": "araBakR-544Y",
        "outputId": "346b9f6c-36f3-44f1-f40e-3777185d650e"
      },
      "execution_count": 27,
      "outputs": [
        {
          "output_type": "stream",
          "name": "stdout",
          "text": [
            "Father works\n",
            "Mother paints\n"
          ]
        }
      ]
    },
    {
      "cell_type": "markdown",
      "source": [
        "19. Explain the purpose of ‘’_ _ _str_ _ _ _’ and ‘_ _ _ _repr_ _ _\" methods in Python.\n",
        "- These are dunder in Python.\n",
        "- They are used to define how an object is represented as a string.\n",
        "  - `__str__()` : This is for End Users and is readable. It is called by `print(obj)` or `str(obj)`. It returns a readable string.\n",
        "  - `__repr__()` : This is for Developers and is unambiguous. It is called by `repr(obj)` or when object is typed in the interpreter. It returns an unambiguous string."
      ],
      "metadata": {
        "id": "aYvX02yQZKF_"
      }
    },
    {
      "cell_type": "code",
      "source": [
        "#example for __str__() :-\n",
        "class Person:\n",
        "    def __init__(self, name, age):\n",
        "        self.name = name\n",
        "        self.age = age\n",
        "\n",
        "    def __str__(self):\n",
        "        return f\"Anjali is 23 years old.\"\n",
        "\n",
        "p = Person(\"Anjali\", 23)\n",
        "print(p)\n",
        "\n",
        "#example for __repr__() :-\n",
        "class Person:\n",
        "    def __init__(self, name, age):\n",
        "        self.name = name\n",
        "        self.age = age\n",
        "\n",
        "    def __repr__(self):\n",
        "        return f\"Person(name='{self.name}', age={self.age})\"\n",
        "\n",
        "p = Person(\"Anjali\", 23)\n",
        "print(repr(p))"
      ],
      "metadata": {
        "colab": {
          "base_uri": "https://localhost:8080/"
        },
        "id": "6-fSQriF8hMn",
        "outputId": "b3f61a9a-862b-4efb-bc3c-1b009eb67f1a"
      },
      "execution_count": 29,
      "outputs": [
        {
          "output_type": "stream",
          "name": "stdout",
          "text": [
            "Anjali is 23 years old.\n",
            "Person(name='Anjali', age=23)\n"
          ]
        }
      ]
    },
    {
      "cell_type": "markdown",
      "source": [
        "20. What is the significance of the ‘super()’ function in Python?\n",
        "- The `super()` function in Python is used to call methods from a parent class.\n",
        "- It is commonly used in inheritance to ensure that parent class behavior is preserved or extended.\n",
        "- It reuses logic instead or re-writing it."
      ],
      "metadata": {
        "id": "hQi8MsRIZOmL"
      }
    },
    {
      "cell_type": "code",
      "source": [
        "#example :-\n",
        "class Animal:\n",
        "    def __init__(self, name):\n",
        "        self.name = name\n",
        "\n",
        "        def speak(self):\n",
        "          return \"Animal speaks\"\n",
        "\n",
        "class Dog(Animal):\n",
        "    def __init__(self, name, breed):\n",
        "        super().__init__(name)\n",
        "        self.breed = breed\n",
        "        def speak(self):\n",
        "          return \"Woof!\"\n",
        "\n",
        "d = Dog(\"Nick\", \"German Shepherd\")\n",
        "print(d.name)\n",
        "print(d.breed)"
      ],
      "metadata": {
        "colab": {
          "base_uri": "https://localhost:8080/"
        },
        "id": "TkGo8R48-Rpi",
        "outputId": "6ba78993-29a5-4ff3-f208-d00e2f452f73"
      },
      "execution_count": 33,
      "outputs": [
        {
          "output_type": "stream",
          "name": "stdout",
          "text": [
            "Nick\n",
            "German Shepherd\n"
          ]
        }
      ]
    },
    {
      "cell_type": "markdown",
      "source": [
        "21. What is the significance of the _ _ _del_ _ _ method in Python?\n",
        "- This method is a destructor.\n",
        "- This is special method that is automatically called when an object is about to be destoryed, typically when it is garbage collected.\n",
        "- It's purpose is to clean up resources (e.g., files, database,etc.)\n",
        "- It can define custom behavior when an objecr is deleted."
      ],
      "metadata": {
        "id": "_UmXthK_aF28"
      }
    },
    {
      "cell_type": "code",
      "source": [
        "#example :-\n",
        "class Person:\n",
        "    def __init__(self, name):\n",
        "        self.name = name\n",
        "\n",
        "    def __del__(self):\n",
        "        print(f\"{self.name} has been deleted.\")\n",
        "\n",
        "p = Person(\"Anjali\")\n",
        "del p"
      ],
      "metadata": {
        "colab": {
          "base_uri": "https://localhost:8080/"
        },
        "id": "uLvguXWy_VuO",
        "outputId": "1c58727c-a8f6-4053-8a79-2ed96987e638"
      },
      "execution_count": 34,
      "outputs": [
        {
          "output_type": "stream",
          "name": "stdout",
          "text": [
            "Anjali has been deleted.\n"
          ]
        }
      ]
    },
    {
      "cell_type": "markdown",
      "source": [
        "22. What is the difference between @staticmethod and @classmethod in Python?\n",
        "- `@staticmethod` :-\n",
        "  - It is a method which does not access (`self`) or (`cls`).\n",
        "  - It behaves like a regular function, but is logically grouped with the class."
      ],
      "metadata": {
        "id": "rCJFMtUqaQYT"
      }
    },
    {
      "cell_type": "code",
      "source": [
        "#example :-\n",
        "class Maths:\n",
        "  @staticmethod\n",
        "  def add(a, b):\n",
        "    return a + b\n",
        "\n",
        "print(Maths.add(23, 35))"
      ],
      "metadata": {
        "colab": {
          "base_uri": "https://localhost:8080/"
        },
        "id": "B-Pfe1tWAFtE",
        "outputId": "3dbb5179-d7c0-41d9-af97-8d48c9f162f7"
      },
      "execution_count": 35,
      "outputs": [
        {
          "output_type": "stream",
          "name": "stdout",
          "text": [
            "58\n"
          ]
        }
      ]
    },
    {
      "cell_type": "markdown",
      "source": [
        "- `@classmethod` :-    \n",
        "  - It is a method which receives the class itself as the first argument (`cls`).\n",
        "  - It can access or change class-level data and create alternate constructors."
      ],
      "metadata": {
        "id": "uPbnnz9HAMqI"
      }
    },
    {
      "cell_type": "code",
      "source": [
        "#example :-\n",
        "class Student:\n",
        "  school_name = \"ABC School\"\n",
        "\n",
        "  @classmethod\n",
        "  def get_school(cls):\n",
        "    return cls.school_name\n",
        "\n",
        "s = Student()\n",
        "print(s.get_school())"
      ],
      "metadata": {
        "colab": {
          "base_uri": "https://localhost:8080/"
        },
        "id": "266YwqskAmJd",
        "outputId": "bf9518ae-8158-48b5-8453-2c42ad19c809"
      },
      "execution_count": 36,
      "outputs": [
        {
          "output_type": "stream",
          "name": "stdout",
          "text": [
            "ABC School\n"
          ]
        }
      ]
    },
    {
      "cell_type": "markdown",
      "source": [
        "23. How does polymorphism work in Python with inheritance?\n",
        "- When we use inheritance, a base class defines a method, and subclasses override this method to provide specific behavior.\n",
        "- When you call the method on an instance of a subclass, Python will automatically use the overriden method."
      ],
      "metadata": {
        "id": "aSfL7ARHaW8Q"
      }
    },
    {
      "cell_type": "code",
      "source": [
        "#example :-\n",
        "class Animal:\n",
        "    def speak(self):\n",
        "        return \"Animal speaks\"\n",
        "\n",
        "class Dog(Animal):\n",
        "    def speak(self):\n",
        "        return \"Woof!\"\n",
        "\n",
        "class Cat(Animal):\n",
        "    def speak(self):\n",
        "        return \"Meow!\"\n",
        "\n",
        "a = Animal()\n",
        "print(a.speak())\n",
        "d = Dog()\n",
        "print(d.speak())\n",
        "c = Cat()\n",
        "print(c.speak())"
      ],
      "metadata": {
        "colab": {
          "base_uri": "https://localhost:8080/"
        },
        "id": "sqkQKZRUBNaS",
        "outputId": "7e09152c-0ffa-4ecf-8792-c2dad869483f"
      },
      "execution_count": 37,
      "outputs": [
        {
          "output_type": "stream",
          "name": "stdout",
          "text": [
            "Animal speaks\n",
            "Woof!\n",
            "Meow!\n"
          ]
        }
      ]
    },
    {
      "cell_type": "markdown",
      "source": [
        "24. What is method chaining in Python OOP?\n",
        "- It is a programming technique in OOP where multiple methods are called on the same object in a single line.\n",
        "- Each method returns the object itself (`self`), allowing the next method to be called on it.\n",
        "- It makes the code cleaner and more readable.\n",
        "- It is useful in builder patterns, fluent interfaces etc."
      ],
      "metadata": {
        "id": "7OFgRAhqab6l"
      }
    },
    {
      "cell_type": "code",
      "source": [
        "#example :-\n",
        "class Person:\n",
        "    def __init__(self, name):\n",
        "        self.name = name\n",
        "        self.age = None\n",
        "\n",
        "    def set_name(self, name):\n",
        "        self.name = name\n",
        "        return self\n",
        "\n",
        "    def set_age(self, age):\n",
        "        self.age = age\n",
        "        return self\n",
        "\n",
        "    def introduce(self):\n",
        "        return f\"Hello, my name is {self.name} and I am {self.age} years old.\"\n",
        "\n",
        "p = Person(\"Anjali\").set_age(23)\n",
        "print(p.introduce())"
      ],
      "metadata": {
        "colab": {
          "base_uri": "https://localhost:8080/"
        },
        "id": "SXNYqIANCOnF",
        "outputId": "f42124bc-5769-4b93-a704-6acdb97f628f"
      },
      "execution_count": 38,
      "outputs": [
        {
          "output_type": "stream",
          "name": "stdout",
          "text": [
            "Hello, my name is Anjali and I am 23 years old.\n"
          ]
        }
      ]
    },
    {
      "cell_type": "markdown",
      "source": [
        "25. What is the purpose of the _ _ _call_ _ _ method in Python?\n",
        "- The purpose of `__call__` is to make an object callable.\n",
        "- `object()` syntax can be used, just like with a regular function."
      ],
      "metadata": {
        "id": "e3jWh1l1aj-O"
      }
    },
    {
      "cell_type": "code",
      "source": [
        "#example :-\n",
        "class Greeter:\n",
        "    def __call__(self, name):\n",
        "        return f\"Hello, {name}!\"\n",
        "\n",
        "g = Greeter()\n",
        "print(g(\"Anjali\"))"
      ],
      "metadata": {
        "colab": {
          "base_uri": "https://localhost:8080/"
        },
        "id": "uKTFPR1JDBri",
        "outputId": "cfdd2ae3-58e2-4df1-cd9e-ad24fa8a7093"
      },
      "execution_count": 39,
      "outputs": [
        {
          "output_type": "stream",
          "name": "stdout",
          "text": [
            "Hello, Anjali!\n"
          ]
        }
      ]
    },
    {
      "cell_type": "markdown",
      "source": [
        "**Practical** **Questions**\n",
        "--"
      ],
      "metadata": {
        "id": "8qNzbRYBatXr"
      }
    },
    {
      "cell_type": "markdown",
      "source": [
        "1. Create a parent class Animal with a method speak() that prints a generic message. Create a child class Dog\n",
        "that overrides the speak() method to print \"Bark!\"."
      ],
      "metadata": {
        "id": "GwD_rOwDa8R6"
      }
    },
    {
      "cell_type": "code",
      "source": [
        "class Animal:\n",
        "    def speak(self):\n",
        "        return \"Animal speaks\"\n",
        "\n",
        "class Dog(Animal):\n",
        "    def speak(self):\n",
        "        return \"Bark\"\n",
        "\n",
        "a = Animal()\n",
        "print(a.speak())\n",
        "d = Dog()\n",
        "print(d.speak())"
      ],
      "metadata": {
        "colab": {
          "base_uri": "https://localhost:8080/"
        },
        "id": "Jtcg5db2DP2O",
        "outputId": "59e7ece6-9629-466d-c095-24a23aa1bd00"
      },
      "execution_count": 41,
      "outputs": [
        {
          "output_type": "stream",
          "name": "stdout",
          "text": [
            "Animal speaks\n",
            "Bark\n"
          ]
        }
      ]
    },
    {
      "cell_type": "markdown",
      "source": [
        "2. Write a program to create an abstract class Shape with a method area(). Derive classes Circle and Rectangle\n",
        "from it and implement the area() method in both."
      ],
      "metadata": {
        "id": "MSAgc53XbJKJ"
      }
    },
    {
      "cell_type": "code",
      "source": [
        "from abc import ABC, abstractmethod\n",
        "\n",
        "class Shape(ABC):\n",
        "    @abstractmethod\n",
        "    def area(self):\n",
        "        pass\n",
        "\n",
        "class Circle(Shape):\n",
        "    def __init__(self, radius):\n",
        "        self.radius = radius\n",
        "\n",
        "    def area(self):\n",
        "        return 3.14 * self.radius\n",
        "\n",
        "class Rectangle(Shape):\n",
        "    def __init__(self, length, width):\n",
        "        self.length = length\n",
        "        self.width = width\n",
        "\n",
        "    def area(self):\n",
        "        return self.length * self.width\n",
        "\n",
        "c = Circle(8)\n",
        "print(c.area())\n",
        "r = Rectangle(4, 6)\n",
        "print(r.area())"
      ],
      "metadata": {
        "colab": {
          "base_uri": "https://localhost:8080/"
        },
        "id": "onlpOHZ2Dr2d",
        "outputId": "ad764cbc-4d39-4546-e2b0-4ea5f2a3f810"
      },
      "execution_count": 43,
      "outputs": [
        {
          "output_type": "stream",
          "name": "stdout",
          "text": [
            "25.12\n",
            "24\n"
          ]
        }
      ]
    },
    {
      "cell_type": "markdown",
      "source": [
        "3. Implement a multi-level inheritance scenario where a class Vehicle has an attribute type. Derive a class Car\n",
        "and further derive a class ElectricCar that adds a battery attribute."
      ],
      "metadata": {
        "id": "uHuGUB_hbPoh"
      }
    },
    {
      "cell_type": "code",
      "source": [
        "class Vehicle:\n",
        "    def __init__(self, vehicle_type):\n",
        "        self.type = vehicle_type\n",
        "\n",
        "    def display_type(self):\n",
        "        print(f\"This is a {self.type} vehicle.\")\n",
        "\n",
        "class Car(Vehicle):\n",
        "    def __init__(self, vehicle_type, brand):\n",
        "        super().__init__(\"car\")\n",
        "        self.brand = brand\n",
        "\n",
        "    def display_brand(self):\n",
        "        print(f\"This is a {self.brand} car.\")\n",
        "\n",
        "class ElectricCar(Car):\n",
        "    def __init__(self, vehicle_type, brand, battery_capacity):\n",
        "        super().__init__(vehicle_type, brand)\n",
        "        self.battery_capacity = battery_capacity\n",
        "\n",
        "    def display_battery(self):\n",
        "        print(f\"This car has a {self.battery_capacity} kWh battery.\")\n",
        "\n",
        "ev = ElectricCar(\"Electric\", \"Tesla\", 75)\n",
        "ev.display_type()\n",
        "ev.display_brand()\n",
        "ev.display_battery()"
      ],
      "metadata": {
        "colab": {
          "base_uri": "https://localhost:8080/"
        },
        "id": "0ibm0L_PENZ7",
        "outputId": "9727fc1d-871d-4e47-fc78-2625d02b9446"
      },
      "execution_count": 46,
      "outputs": [
        {
          "output_type": "stream",
          "name": "stdout",
          "text": [
            "This is a car vehicle.\n",
            "This is a Tesla car.\n",
            "This car has a 75 kWh battery.\n"
          ]
        }
      ]
    },
    {
      "cell_type": "markdown",
      "source": [
        "4. Demonstrate polymorphism by creating a base class Bird with a method fly(). Create two derived classes\n",
        "Sparrow and Penguin that override the fly() method."
      ],
      "metadata": {
        "id": "__lQ0H-xbV1x"
      }
    },
    {
      "cell_type": "code",
      "source": [
        "class Bird:\n",
        "    def fly(self):\n",
        "        return \"Bird flies\"\n",
        "\n",
        "class Sparrow(Bird):\n",
        "    def fly(self):\n",
        "        return \"Sparrow flies\"\n",
        "\n",
        "class Penguin(Bird):\n",
        "    def fly(self):\n",
        "        return \"Penguin cannot fly\"\n",
        "\n",
        "b = Bird()\n",
        "print(b.fly())\n",
        "s = Sparrow()\n",
        "print(s.fly())\n",
        "p = Penguin()\n",
        "print(p.fly())"
      ],
      "metadata": {
        "colab": {
          "base_uri": "https://localhost:8080/"
        },
        "id": "1QCiPJr6FjI8",
        "outputId": "860ad639-5914-4a36-c758-92b067a8840c"
      },
      "execution_count": 47,
      "outputs": [
        {
          "output_type": "stream",
          "name": "stdout",
          "text": [
            "Bird flies\n",
            "Sparrow flies\n",
            "Penguin cannot fly\n"
          ]
        }
      ]
    },
    {
      "cell_type": "markdown",
      "source": [
        "5. Write a program to demonstrate encapsulation by creating a class BankAccount with private attributes\n",
        "balance and methods to deposit, withdraw, and check balance."
      ],
      "metadata": {
        "id": "QJLoTjOJbcYY"
      }
    },
    {
      "cell_type": "code",
      "source": [
        "class BankAccount:\n",
        "    def __init__(self, balance):\n",
        "        self.__balance = balance\n",
        "\n",
        "    def deposit(self, amount):\n",
        "      if amount > 0:\n",
        "        self.__balance += amount\n",
        "        print(\"Deposit successful\")\n",
        "      else:\n",
        "        print(\"Invalid amount\")\n",
        "\n",
        "    def withdraw(self, amount):\n",
        "        if 0 < amount <= self.__balance:\n",
        "            self.__balance -= amount\n",
        "            print(\"Withdrawal successful\")\n",
        "        else:\n",
        "            print(\"Insufficient balance\")\n",
        "\n",
        "    def check_balance(self):\n",
        "        return self.__balance\n",
        "\n",
        "account = BankAccount(4000)\n",
        "account.deposit(500)\n",
        "account.withdraw(200)\n",
        "print(account.check_balance())"
      ],
      "metadata": {
        "colab": {
          "base_uri": "https://localhost:8080/"
        },
        "id": "Xli2xi2eF_hR",
        "outputId": "5673b1f6-27b8-4795-fa89-f184689524f0"
      },
      "execution_count": 48,
      "outputs": [
        {
          "output_type": "stream",
          "name": "stdout",
          "text": [
            "Deposit successful\n",
            "Withdrawal successful\n",
            "4300\n"
          ]
        }
      ]
    },
    {
      "cell_type": "markdown",
      "source": [
        "6. Demonstrate runtime polymorphism using a method play() in a base class Instrument. Derive classes Guitar\n",
        "and Piano that implement their own version of play()."
      ],
      "metadata": {
        "id": "3wfp2C-4bkwz"
      }
    },
    {
      "cell_type": "code",
      "source": [
        "class Instrument:\n",
        "    def play(self):\n",
        "        return \"Instrument plays\"\n",
        "\n",
        "class Guitar(Instrument):\n",
        "    def play(self):\n",
        "        return \"Guitar plays\"\n",
        "\n",
        "class Piano(Instrument):\n",
        "    def play(self):\n",
        "        return \"Piano plays\"\n",
        "\n",
        "i = Instrument()\n",
        "print(i.play())\n",
        "g = Guitar()\n",
        "print(g.play())\n",
        "p = Piano()\n",
        "print(p.play())"
      ],
      "metadata": {
        "colab": {
          "base_uri": "https://localhost:8080/"
        },
        "id": "VixjM5x1Gx-e",
        "outputId": "9a208fc6-2052-4942-9fb0-50579ed6bc58"
      },
      "execution_count": 49,
      "outputs": [
        {
          "output_type": "stream",
          "name": "stdout",
          "text": [
            "Instrument plays\n",
            "Guitar plays\n",
            "Piano plays\n"
          ]
        }
      ]
    },
    {
      "cell_type": "markdown",
      "source": [
        "7. Create a class MathOperations with a class method add_numbers() to add two numbers and a static\n",
        "method subtract_numbers() to subtract two numbers."
      ],
      "metadata": {
        "id": "ckm03DeubrwP"
      }
    },
    {
      "cell_type": "code",
      "source": [
        "class MathOperations:\n",
        "    @classmethod\n",
        "    def add_numbers(cls, a, b):\n",
        "        return a + b\n",
        "\n",
        "    @staticmethod\n",
        "    def subtract_numbers(a, b):\n",
        "        return a - b\n",
        "\n",
        "print(\"Addition :\", MathOperations.add_numbers(4, 6))\n",
        "print(\"Subtraction :\", MathOperations.subtract_numbers(8, 3))"
      ],
      "metadata": {
        "colab": {
          "base_uri": "https://localhost:8080/"
        },
        "id": "XNONcG_kHAzA",
        "outputId": "e7b02752-078c-4ecb-edda-3cb45a66d69c"
      },
      "execution_count": 50,
      "outputs": [
        {
          "output_type": "stream",
          "name": "stdout",
          "text": [
            "Addition : 10\n",
            "Subtraction : 5\n"
          ]
        }
      ]
    },
    {
      "cell_type": "markdown",
      "source": [
        "8. Implement a class Person with a class method to count the total number of persons created."
      ],
      "metadata": {
        "id": "hR-iGP6gb4_6"
      }
    },
    {
      "cell_type": "code",
      "source": [
        "class Person:\n",
        "    count = 0\n",
        "\n",
        "    def __init__(self, name):\n",
        "        self.name = name\n",
        "        Person.count += 5\n",
        "\n",
        "    @classmethod\n",
        "    def get_count(cls):\n",
        "        return cls.count\n",
        "\n",
        "p1 = Person(\"Anjali\")\n",
        "p2 = Person(\"Priya\")\n",
        "print(\"Total Persons Created :\", Person.get_count())"
      ],
      "metadata": {
        "colab": {
          "base_uri": "https://localhost:8080/"
        },
        "id": "JHjYQ_pUHaCM",
        "outputId": "bc02bb7b-cf0a-4d79-9756-e339f33e3d4f"
      },
      "execution_count": 52,
      "outputs": [
        {
          "output_type": "stream",
          "name": "stdout",
          "text": [
            "Total Persons Created : 10\n"
          ]
        }
      ]
    },
    {
      "cell_type": "markdown",
      "source": [
        "9. Write a class Fraction with attributes numerator and denominator. Override the str method to display the\n",
        "fraction as \"numerator/denominator\"."
      ],
      "metadata": {
        "id": "P9UlVa60cBeB"
      }
    },
    {
      "cell_type": "code",
      "source": [
        "class Fraction:\n",
        "    def __init__(self, numerator, denominator):\n",
        "        self.numerator = numerator\n",
        "        self.denominator = denominator\n",
        "\n",
        "    def __str__(self):\n",
        "        return f\"{self.numerator}/{self.denominator}\"\n",
        "\n",
        "f = Fraction(4, 6)\n",
        "print(f)"
      ],
      "metadata": {
        "colab": {
          "base_uri": "https://localhost:8080/"
        },
        "id": "zmVlAm03H5Hk",
        "outputId": "26b51b3b-629f-4744-ec9f-2dcd6b95c2ea"
      },
      "execution_count": 53,
      "outputs": [
        {
          "output_type": "stream",
          "name": "stdout",
          "text": [
            "4/6\n"
          ]
        }
      ]
    },
    {
      "cell_type": "markdown",
      "source": [
        "10. Demonstrate operator overloading by creating a class Vector and overriding the add method to add two\n",
        "vectors."
      ],
      "metadata": {
        "id": "RE4zSvFwcJXL"
      }
    },
    {
      "cell_type": "code",
      "source": [
        "class Vector:\n",
        "  def __init__(self, x, y):\n",
        "    self.x = x\n",
        "    self.y = y\n",
        "\n",
        "  def __add__(self, other):\n",
        "    return Vector(self.x + other.x, self.y + other.y)\n",
        "\n",
        "  def __str__(self):\n",
        "    return f\"({self.x}, {self.y})\"\n",
        "\n",
        "v1 = Vector(3, 10)\n",
        "v2 = Vector(6, 2)\n",
        "v3 = v1 + v2\n",
        "print(\"v3 =\", v3)"
      ],
      "metadata": {
        "colab": {
          "base_uri": "https://localhost:8080/"
        },
        "id": "eQ_nFL_OIJtL",
        "outputId": "52553983-0391-4638-f9a9-05910e51bcf9"
      },
      "execution_count": 54,
      "outputs": [
        {
          "output_type": "stream",
          "name": "stdout",
          "text": [
            "v3 = (9, 12)\n"
          ]
        }
      ]
    },
    {
      "cell_type": "markdown",
      "source": [
        "11. Create a class Person with attributes name and age. Add a method greet() that prints \"Hello, my name is\n",
        "{name} and I am {age} years old.\""
      ],
      "metadata": {
        "id": "7k8CQeX2cPDq"
      }
    },
    {
      "cell_type": "code",
      "source": [
        "class Person:\n",
        "    def __init__(self, name, age):\n",
        "        self.name = name\n",
        "        self.age = age\n",
        "\n",
        "    def greet(self):\n",
        "        return f\"Hello, my name is {self.name} and I am {self.age} years old.\"\n",
        "\n",
        "p = Person(\"Anjali\", 23)\n",
        "print(p.greet())"
      ],
      "metadata": {
        "colab": {
          "base_uri": "https://localhost:8080/"
        },
        "id": "YvH9XKZ1Is_K",
        "outputId": "c3c01cd5-c007-48b9-c1aa-1736d4629ea7"
      },
      "execution_count": 55,
      "outputs": [
        {
          "output_type": "stream",
          "name": "stdout",
          "text": [
            "Hello, my name is Anjali and I am 23 years old.\n"
          ]
        }
      ]
    },
    {
      "cell_type": "markdown",
      "source": [
        "12. Implement a class Student with attributes name and grades. Create a method average_grade() to compute\n",
        "the average of the grades."
      ],
      "metadata": {
        "id": "Uf3hmHi5cWgj"
      }
    },
    {
      "cell_type": "code",
      "source": [
        "class Student:\n",
        "    def __init__(self, name, grades):\n",
        "        self.name = name\n",
        "        self.grades = grades\n",
        "\n",
        "    def average_grade(self):\n",
        "        if not self.grades:\n",
        "            return 0\n",
        "        return sum(self.grades) / len(self.grades)\n",
        "\n",
        "s = Student(\"Anjali\", [80, 90, 75, 95])\n",
        "print(s.average_grade())"
      ],
      "metadata": {
        "colab": {
          "base_uri": "https://localhost:8080/"
        },
        "id": "YnSXlYr5I5zA",
        "outputId": "23cb4e83-d561-4242-81b2-45d6dda7c6ff"
      },
      "execution_count": 56,
      "outputs": [
        {
          "output_type": "stream",
          "name": "stdout",
          "text": [
            "85.0\n"
          ]
        }
      ]
    },
    {
      "cell_type": "markdown",
      "source": [
        "13. Create a class Rectangle with methods set_dimensions() to set the dimensions and area() to calculate the\n",
        "area."
      ],
      "metadata": {
        "id": "KQQvbeq0ceM6"
      }
    },
    {
      "cell_type": "code",
      "source": [
        "class Rectangle:\n",
        "    def __init__(self, length, width):\n",
        "        self.length = length\n",
        "        self.width = width\n",
        "\n",
        "    def set_dimensions(self, length, width):\n",
        "        self.length = length\n",
        "        self.width = width\n",
        "\n",
        "    def area(self):\n",
        "        return self.length * self.width\n",
        "\n",
        "r = Rectangle(4, 6)\n",
        "print(\"Dimension of the Rectangle :\", r.area())\n",
        "r.set_dimensions(5, 8)\n",
        "print(\"Area of the Rectangle :\", r.area())"
      ],
      "metadata": {
        "colab": {
          "base_uri": "https://localhost:8080/"
        },
        "id": "ZAEeQjHXJLo0",
        "outputId": "09b40bc7-29e4-43df-c6e6-e6b634a147b0"
      },
      "execution_count": 59,
      "outputs": [
        {
          "output_type": "stream",
          "name": "stdout",
          "text": [
            "Dimension of the Rectangle : 24\n",
            "Area of the Rectangle : 40\n"
          ]
        }
      ]
    },
    {
      "cell_type": "markdown",
      "source": [
        "14. Create a class Employee with a method calculate_salary() that computes the salary based on hours worked\n",
        "and hourly rate. Create a derived class Manager that adds a bonus to the salary."
      ],
      "metadata": {
        "id": "dbpP0yFsckpq"
      }
    },
    {
      "cell_type": "code",
      "source": [
        "class Employee:\n",
        "    def __init__(self, name, hours_worked, hourly_rate):\n",
        "        self.name = name\n",
        "        self.hours_worked = hours_worked\n",
        "        self.hourly_rate = hourly_rate\n",
        "\n",
        "    def calculate_salary(self):\n",
        "        return self.hours_worked * self.hourly_rate\n",
        "\n",
        "class Manager(Employee):\n",
        "    def __init__(self, name, hours_worked, hourly_rate, bonus):\n",
        "        super().__init__(name, hours_worked, hourly_rate)\n",
        "        self.bonus = bonus\n",
        "\n",
        "    def calculate_salary(self):\n",
        "        base_salary = super().calculate_salary()\n",
        "        return base_salary + self.bonus\n",
        "\n",
        "m = Manager(\"Anjali\", 40, 50, 5000)\n",
        "e = Employee(\"Priya\", 30, 40)\n",
        "print(f\"{m.name}'s Salary : {m.calculate_salary()}\")\n",
        "print(f\"{e.name}'s Salary : {e.calculate_salary()}\")"
      ],
      "metadata": {
        "colab": {
          "base_uri": "https://localhost:8080/"
        },
        "id": "i2ezN3oDJpuS",
        "outputId": "0a981215-8c51-4068-dd06-21c047bbc515"
      },
      "execution_count": 61,
      "outputs": [
        {
          "output_type": "stream",
          "name": "stdout",
          "text": [
            "Anjali's Salary : 7000\n",
            "Priya's Salary : 1200\n"
          ]
        }
      ]
    },
    {
      "cell_type": "markdown",
      "source": [
        "15. Create a class Product with attributes name, price, and quantity. Implement a method total_price() that\n",
        "calculates the total price of the product."
      ],
      "metadata": {
        "id": "KTLr-Bk8csSG"
      }
    },
    {
      "cell_type": "code",
      "source": [
        "class Product:\n",
        "    def __init__(self, name, price, quantity):\n",
        "        self.name = name\n",
        "        self.price = price\n",
        "        self.quantity = quantity\n",
        "\n",
        "    def total_price(self):\n",
        "        return self.price * self.quantity\n",
        "\n",
        "p = Product(\"Pen\", 5, 10)\n",
        "print(\"Price of the product :\", p.total_price())"
      ],
      "metadata": {
        "colab": {
          "base_uri": "https://localhost:8080/"
        },
        "id": "zFV7Gj_xKp8N",
        "outputId": "fa4836b8-14b5-4258-97ea-a6b2022d3e02"
      },
      "execution_count": 64,
      "outputs": [
        {
          "output_type": "stream",
          "name": "stdout",
          "text": [
            "Price of the product : 50\n"
          ]
        }
      ]
    },
    {
      "cell_type": "markdown",
      "source": [
        "16. Create a class Animal with an abstract method sound(). Create two derived classes Cow and Sheep that\n",
        "implement the sound() method."
      ],
      "metadata": {
        "id": "u_0E6Mc1cz8m"
      }
    },
    {
      "cell_type": "code",
      "source": [
        "class Animal:\n",
        "    def sound(self):\n",
        "        pass\n",
        "\n",
        "class Cow(Animal):\n",
        "    def sound(self):\n",
        "        return \"Moo!\"\n",
        "\n",
        "class Sheep(Animal):\n",
        "    def sound(self):\n",
        "        return \"Baaa!\"\n",
        "\n",
        "a = Animal()\n",
        "print (a.sound())\n",
        "c = Cow()\n",
        "print(c.sound())\n",
        "s = Sheep()\n",
        "print(s.sound())"
      ],
      "metadata": {
        "colab": {
          "base_uri": "https://localhost:8080/"
        },
        "id": "7PsZUtXtLRYn",
        "outputId": "ce64686a-9db9-46c4-e61f-da00e06f4baf"
      },
      "execution_count": 66,
      "outputs": [
        {
          "output_type": "stream",
          "name": "stdout",
          "text": [
            "None\n",
            "Moo!\n",
            "Baaa!\n"
          ]
        }
      ]
    },
    {
      "cell_type": "markdown",
      "source": [
        "17. Create a class Book with attributes title, author, and year_published. Add a method get_book_info() that\n",
        "returns a formatted string with the book's details."
      ],
      "metadata": {
        "id": "dUeTQ5wEc58F"
      }
    },
    {
      "cell_type": "code",
      "source": [
        "class Book:\n",
        "    def __init__(self, title, author, year_published):\n",
        "        self.title = title\n",
        "        self.author = author\n",
        "        self.year_published = year_published\n",
        "\n",
        "    def get_book_info(self):\n",
        "        return f\"Title: {self.title}\\nAuthor: {self.author}\\nYear Published: {self.year_published}\"\n",
        "\n",
        "b = Book(\"Think Like a Monk\", \"Jay Shetty\", 2020)\n",
        "print(b.get_book_info())"
      ],
      "metadata": {
        "colab": {
          "base_uri": "https://localhost:8080/"
        },
        "id": "KKDUagVlLzkN",
        "outputId": "26ff516e-598e-4737-b422-baab32390b56"
      },
      "execution_count": 67,
      "outputs": [
        {
          "output_type": "stream",
          "name": "stdout",
          "text": [
            "Title: Think Like a Monk\n",
            "Author: Jay Shetty\n",
            "Year Published: 2020\n"
          ]
        }
      ]
    },
    {
      "cell_type": "markdown",
      "source": [
        "18. Create a class House with attributes address and price. Create a derived class Mansion that adds an\n",
        "attribute number_of_rooms."
      ],
      "metadata": {
        "id": "5C6viALHdAKx"
      }
    },
    {
      "cell_type": "code",
      "execution_count": 68,
      "metadata": {
        "colab": {
          "base_uri": "https://localhost:8080/"
        },
        "id": "02KCAT5CW4p0",
        "outputId": "90dc7306-0552-4fb0-d21b-f744484b6e08"
      },
      "outputs": [
        {
          "output_type": "stream",
          "name": "stdout",
          "text": [
            "Address: 123 Main St\n",
            "Price: 250000\n",
            "Number of Rooms: 8\n"
          ]
        }
      ],
      "source": [
        "class House:\n",
        "    def __init__(self, address, price):\n",
        "        self.address = address\n",
        "        self.price = price\n",
        "\n",
        "class Mansion(House):\n",
        "    def __init__(self, address, price, number_of_rooms):\n",
        "        super().__init__(address, price)\n",
        "        self.number_of_rooms = number_of_rooms\n",
        "\n",
        "    def get_house_info(self):\n",
        "        return f\"Address: {self.address}\\nPrice: {self.price}\\nNumber of Rooms: {self.number_of_rooms}\"\n",
        "\n",
        "m = Mansion(\"123 Main St\", 250000, 8)\n",
        "print(m.get_house_info())"
      ]
    }
  ]
}